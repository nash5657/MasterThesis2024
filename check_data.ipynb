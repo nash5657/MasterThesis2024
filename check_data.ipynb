{
 "cells": [
  {
   "cell_type": "code",
   "execution_count": 1,
   "id": "0171dc5b-518e-45ef-8c93-11fddd5c3262",
   "metadata": {},
   "outputs": [],
   "source": [
    "import torch"
   ]
  },
  {
   "cell_type": "code",
   "execution_count": 3,
   "id": "9f37e3ae-cbe0-4da2-82c7-22d190cedae5",
   "metadata": {},
   "outputs": [],
   "source": [
    "# Adjust the path as necessary to point to your specific split file\n",
    "split_data_path = '/Users/nash/Project/fedn/fedn/examples/mnist-pytorch/data/clients/1/dataset.pt'\n",
    "split_data = torch.load(split_data_path)\n"
   ]
  },
  {
   "cell_type": "code",
   "execution_count": 12,
   "id": "1c4e6ea9-5898-4746-a8fb-93a97b6ef1e1",
   "metadata": {},
   "outputs": [
    {
     "data": {
      "text/plain": [
       "2"
      ]
     },
     "execution_count": 12,
     "metadata": {},
     "output_type": "execute_result"
    }
   ],
   "source": [
    "len(split_data.keys())"
   ]
  },
  {
   "cell_type": "code",
   "execution_count": null,
   "id": "dc713836-0790-4b00-9b2c-b79b30f50ff3",
   "metadata": {},
   "outputs": [],
   "source": []
  }
 ],
 "metadata": {
  "kernelspec": {
   "display_name": "Python (fedn)",
   "language": "python",
   "name": "fedn"
  },
  "language_info": {
   "codemirror_mode": {
    "name": "ipython",
    "version": 3
   },
   "file_extension": ".py",
   "mimetype": "text/x-python",
   "name": "python",
   "nbconvert_exporter": "python",
   "pygments_lexer": "ipython3",
   "version": "3.9.18"
  }
 },
 "nbformat": 4,
 "nbformat_minor": 5
}
