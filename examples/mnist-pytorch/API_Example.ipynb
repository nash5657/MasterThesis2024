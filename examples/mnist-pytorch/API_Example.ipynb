{
 "cells": [
  {
   "cell_type": "markdown",
   "id": "622f7047",
   "metadata": {},
   "source": [
    "## FEDn API Example\n",
    "\n",
    "This notebook provides an example of how to use the FEDn API to organize experiments and to analyze validation results. We will here run one training session using FedAvg and one session using FedAdam and compare the results.\n",
    "\n",
    "When you start this tutorial you should have a deployed FEDn Network up and running, and you should have created the compute package and the initial model, see the README for instructions."
   ]
  },
  {
   "cell_type": "code",
   "execution_count": 1,
   "id": "269fd98e-1b63-4e2a-b706-5d42af4e59d4",
   "metadata": {},
   "outputs": [
    {
     "name": "stdout",
     "output_type": "stream",
     "text": [
      "Requirement already satisfied: fedn in /Users/nash/Project/fedn/lib/python3.9/site-packages (0.8.0)\n",
      "Requirement already satisfied: PyYAML>=5.4 in /Users/nash/Project/fedn/lib/python3.9/site-packages (from fedn) (6.0.1)\n",
      "Requirement already satisfied: requests in /Users/nash/Project/fedn/lib/python3.9/site-packages (from fedn) (2.31.0)\n",
      "Requirement already satisfied: urllib3>=1.26.4 in /Users/nash/Project/fedn/lib/python3.9/site-packages (from fedn) (2.2.0)\n",
      "Requirement already satisfied: minio in /Users/nash/Project/fedn/lib/python3.9/site-packages (from fedn) (7.2.4)\n",
      "Requirement already satisfied: python-slugify in /Users/nash/Project/fedn/lib/python3.9/site-packages (from fedn) (8.0.4)\n",
      "Requirement already satisfied: grpcio~=1.57.0 in /Users/nash/Project/fedn/lib/python3.9/site-packages (from fedn) (1.57.0)\n",
      "Requirement already satisfied: grpcio-tools~=1.57.0 in /Users/nash/Project/fedn/lib/python3.9/site-packages (from fedn) (1.57.0)\n",
      "Requirement already satisfied: numpy>=1.21.6 in /Users/nash/Project/fedn/lib/python3.9/site-packages (from fedn) (1.26.4)\n",
      "Requirement already satisfied: protobuf in /Users/nash/Project/fedn/lib/python3.9/site-packages (from fedn) (4.25.2)\n",
      "Requirement already satisfied: pymongo in /Users/nash/Project/fedn/lib/python3.9/site-packages (from fedn) (4.6.1)\n",
      "Requirement already satisfied: Flask in /Users/nash/Project/fedn/lib/python3.9/site-packages (from fedn) (2.2.5)\n",
      "Requirement already satisfied: Flask-WTF in /Users/nash/Project/fedn/lib/python3.9/site-packages (from fedn) (1.2.1)\n",
      "Requirement already satisfied: pyjwt in /Users/nash/Project/fedn/lib/python3.9/site-packages (from fedn) (2.8.0)\n",
      "Requirement already satisfied: pyopenssl in /Users/nash/Project/fedn/lib/python3.9/site-packages (from fedn) (24.0.0)\n",
      "Requirement already satisfied: ttictoc in /Users/nash/Project/fedn/lib/python3.9/site-packages (from fedn) (0.5.6)\n",
      "Requirement already satisfied: psutil in /Users/nash/Project/fedn/lib/python3.9/site-packages (from fedn) (5.9.8)\n",
      "Requirement already satisfied: click==8.0.1 in /Users/nash/Project/fedn/lib/python3.9/site-packages (from fedn) (8.0.1)\n",
      "Requirement already satisfied: jinja2 in /Users/nash/Project/fedn/lib/python3.9/site-packages (from fedn) (3.1.3)\n",
      "Requirement already satisfied: plotly in /Users/nash/Project/fedn/lib/python3.9/site-packages (from fedn) (5.18.0)\n",
      "Requirement already satisfied: pandas in /Users/nash/Project/fedn/lib/python3.9/site-packages (from fedn) (2.2.0)\n",
      "Requirement already satisfied: bokeh<3.0.0 in /Users/nash/Project/fedn/lib/python3.9/site-packages (from fedn) (2.4.3)\n",
      "Requirement already satisfied: networkx in /Users/nash/Project/fedn/lib/python3.9/site-packages (from fedn) (3.2.1)\n",
      "Requirement already satisfied: grpcio-health-checking~=1.57.0 in /Users/nash/Project/fedn/lib/python3.9/site-packages (from fedn) (1.57.0)\n",
      "Requirement already satisfied: packaging>=16.8 in /Users/nash/Project/fedn/lib/python3.9/site-packages (from bokeh<3.0.0->fedn) (23.2)\n",
      "Requirement already satisfied: pillow>=7.1.0 in /Users/nash/Project/fedn/lib/python3.9/site-packages (from bokeh<3.0.0->fedn) (10.2.0)\n",
      "Requirement already satisfied: tornado>=5.1 in /Users/nash/Project/fedn/lib/python3.9/site-packages (from bokeh<3.0.0->fedn) (6.4)\n",
      "Requirement already satisfied: typing-extensions>=3.10.0 in /Users/nash/Project/fedn/lib/python3.9/site-packages (from bokeh<3.0.0->fedn) (4.9.0)\n",
      "Requirement already satisfied: setuptools in /Users/nash/Project/fedn/lib/python3.9/site-packages (from grpcio-tools~=1.57.0->fedn) (68.2.2)\n",
      "Requirement already satisfied: MarkupSafe>=2.0 in /Users/nash/Project/fedn/lib/python3.9/site-packages (from jinja2->fedn) (2.1.5)\n",
      "Requirement already satisfied: Werkzeug>=2.2.2 in /Users/nash/Project/fedn/lib/python3.9/site-packages (from Flask->fedn) (3.0.1)\n",
      "Requirement already satisfied: itsdangerous>=2.0 in /Users/nash/Project/fedn/lib/python3.9/site-packages (from Flask->fedn) (2.1.2)\n",
      "Requirement already satisfied: importlib-metadata>=3.6.0 in /Users/nash/Project/fedn/lib/python3.9/site-packages (from Flask->fedn) (7.0.1)\n",
      "Requirement already satisfied: wtforms in /Users/nash/Project/fedn/lib/python3.9/site-packages (from Flask-WTF->fedn) (3.1.2)\n",
      "Requirement already satisfied: certifi in /Users/nash/Project/fedn/lib/python3.9/site-packages (from minio->fedn) (2024.2.2)\n",
      "Requirement already satisfied: argon2-cffi in /Users/nash/Project/fedn/lib/python3.9/site-packages (from minio->fedn) (23.1.0)\n",
      "Requirement already satisfied: pycryptodome in /Users/nash/Project/fedn/lib/python3.9/site-packages (from minio->fedn) (3.20.0)\n",
      "Requirement already satisfied: python-dateutil>=2.8.2 in /Users/nash/Project/fedn/lib/python3.9/site-packages (from pandas->fedn) (2.8.2)\n",
      "Requirement already satisfied: pytz>=2020.1 in /Users/nash/Project/fedn/lib/python3.9/site-packages (from pandas->fedn) (2024.1)\n",
      "Requirement already satisfied: tzdata>=2022.7 in /Users/nash/Project/fedn/lib/python3.9/site-packages (from pandas->fedn) (2024.1)\n",
      "Requirement already satisfied: tenacity>=6.2.0 in /Users/nash/Project/fedn/lib/python3.9/site-packages (from plotly->fedn) (8.2.3)\n",
      "Requirement already satisfied: dnspython<3.0.0,>=1.16.0 in /Users/nash/Project/fedn/lib/python3.9/site-packages (from pymongo->fedn) (2.5.0)\n",
      "Requirement already satisfied: cryptography<43,>=41.0.5 in /Users/nash/Project/fedn/lib/python3.9/site-packages (from pyopenssl->fedn) (42.0.2)\n",
      "Requirement already satisfied: text-unidecode>=1.3 in /Users/nash/Project/fedn/lib/python3.9/site-packages (from python-slugify->fedn) (1.3)\n",
      "Requirement already satisfied: charset-normalizer<4,>=2 in /Users/nash/Project/fedn/lib/python3.9/site-packages (from requests->fedn) (3.3.2)\n",
      "Requirement already satisfied: idna<4,>=2.5 in /Users/nash/Project/fedn/lib/python3.9/site-packages (from requests->fedn) (3.6)\n",
      "Requirement already satisfied: cffi>=1.12 in /Users/nash/Project/fedn/lib/python3.9/site-packages (from cryptography<43,>=41.0.5->pyopenssl->fedn) (1.16.0)\n",
      "Requirement already satisfied: zipp>=0.5 in /Users/nash/Project/fedn/lib/python3.9/site-packages (from importlib-metadata>=3.6.0->Flask->fedn) (3.17.0)\n",
      "Requirement already satisfied: six>=1.5 in /Users/nash/Project/fedn/lib/python3.9/site-packages (from python-dateutil>=2.8.2->pandas->fedn) (1.16.0)\n",
      "Requirement already satisfied: argon2-cffi-bindings in /Users/nash/Project/fedn/lib/python3.9/site-packages (from argon2-cffi->minio->fedn) (21.2.0)\n",
      "Requirement already satisfied: pycparser in /Users/nash/Project/fedn/lib/python3.9/site-packages (from cffi>=1.12->cryptography<43,>=41.0.5->pyopenssl->fedn) (2.21)\n"
     ]
    }
   ],
   "source": [
    "!pip install fedn"
   ]
  },
  {
   "cell_type": "code",
   "execution_count": 2,
   "id": "2793cde4-7887-47bd-b076-977dcfcf20c1",
   "metadata": {},
   "outputs": [
    {
     "name": "stdout",
     "output_type": "stream",
     "text": [
      "Active virtual environment path: /opt/homebrew/opt/python@3.9/Frameworks/Python.framework/Versions/3.9\n"
     ]
    }
   ],
   "source": [
    "import sys\n",
    "\n",
    "venv_path = getattr(sys, 'base_prefix', sys.prefix)\n",
    "print(\"Active virtual environment path:\", venv_path)"
   ]
  },
  {
   "cell_type": "code",
   "execution_count": 4,
   "id": "65bc1600-37f1-4e02-86c6-47716b7bafe2",
   "metadata": {},
   "outputs": [
    {
     "name": "stdout",
     "output_type": "stream",
     "text": [
      "Collecting matplotlib\n",
      "  Using cached matplotlib-3.8.2-cp39-cp39-macosx_11_0_arm64.whl.metadata (5.8 kB)\n",
      "Collecting contourpy>=1.0.1 (from matplotlib)\n",
      "  Using cached contourpy-1.2.0-cp39-cp39-macosx_11_0_arm64.whl.metadata (5.8 kB)\n",
      "Collecting cycler>=0.10 (from matplotlib)\n",
      "  Using cached cycler-0.12.1-py3-none-any.whl.metadata (3.8 kB)\n",
      "Collecting fonttools>=4.22.0 (from matplotlib)\n",
      "  Downloading fonttools-4.48.1-cp39-cp39-macosx_10_9_universal2.whl.metadata (158 kB)\n",
      "\u001b[2K     \u001b[90m━━━━━━━━━━━━━━━━━━━━━━━━━━━━━━━━━━━━━━━\u001b[0m \u001b[32m158.9/158.9 kB\u001b[0m \u001b[31m7.3 MB/s\u001b[0m eta \u001b[36m0:00:00\u001b[0m\n",
      "\u001b[?25hCollecting kiwisolver>=1.3.1 (from matplotlib)\n",
      "  Using cached kiwisolver-1.4.5-cp39-cp39-macosx_11_0_arm64.whl.metadata (6.4 kB)\n",
      "Requirement already satisfied: numpy<2,>=1.21 in /Users/nash/Project/fedn/lib/python3.9/site-packages (from matplotlib) (1.26.4)\n",
      "Requirement already satisfied: packaging>=20.0 in /Users/nash/Project/fedn/lib/python3.9/site-packages (from matplotlib) (23.2)\n",
      "Requirement already satisfied: pillow>=8 in /Users/nash/Project/fedn/lib/python3.9/site-packages (from matplotlib) (10.2.0)\n",
      "Collecting pyparsing>=2.3.1 (from matplotlib)\n",
      "  Using cached pyparsing-3.1.1-py3-none-any.whl.metadata (5.1 kB)\n",
      "Requirement already satisfied: python-dateutil>=2.7 in /Users/nash/Project/fedn/lib/python3.9/site-packages (from matplotlib) (2.8.2)\n",
      "Collecting importlib-resources>=3.2.0 (from matplotlib)\n",
      "  Using cached importlib_resources-6.1.1-py3-none-any.whl.metadata (4.1 kB)\n",
      "Requirement already satisfied: zipp>=3.1.0 in /Users/nash/Project/fedn/lib/python3.9/site-packages (from importlib-resources>=3.2.0->matplotlib) (3.17.0)\n",
      "Requirement already satisfied: six>=1.5 in /Users/nash/Project/fedn/lib/python3.9/site-packages (from python-dateutil>=2.7->matplotlib) (1.16.0)\n",
      "Using cached matplotlib-3.8.2-cp39-cp39-macosx_11_0_arm64.whl (7.5 MB)\n",
      "Using cached contourpy-1.2.0-cp39-cp39-macosx_11_0_arm64.whl (242 kB)\n",
      "Using cached cycler-0.12.1-py3-none-any.whl (8.3 kB)\n",
      "Downloading fonttools-4.48.1-cp39-cp39-macosx_10_9_universal2.whl (2.8 MB)\n",
      "\u001b[2K   \u001b[90m━━━━━━━━━━━━━━━━━━━━━━━━━━━━━━━━━━━━━━━━\u001b[0m \u001b[32m2.8/2.8 MB\u001b[0m \u001b[31m23.2 MB/s\u001b[0m eta \u001b[36m0:00:00\u001b[0m00:01\u001b[0m00:01\u001b[0m\n",
      "\u001b[?25hUsing cached importlib_resources-6.1.1-py3-none-any.whl (33 kB)\n",
      "Using cached kiwisolver-1.4.5-cp39-cp39-macosx_11_0_arm64.whl (66 kB)\n",
      "Using cached pyparsing-3.1.1-py3-none-any.whl (103 kB)\n",
      "Installing collected packages: pyparsing, kiwisolver, importlib-resources, fonttools, cycler, contourpy, matplotlib\n",
      "Successfully installed contourpy-1.2.0 cycler-0.12.1 fonttools-4.48.1 importlib-resources-6.1.1 kiwisolver-1.4.5 matplotlib-3.8.2 pyparsing-3.1.1\n"
     ]
    }
   ],
   "source": [
    "!pip install matplotlib"
   ]
  },
  {
   "cell_type": "code",
   "execution_count": 5,
   "id": "743dfe47",
   "metadata": {},
   "outputs": [],
   "source": [
    "from fedn import APIClient\n",
    "import time\n",
    "import uuid\n",
    "import json\n",
    "import matplotlib.pyplot as plt\n",
    "import numpy as np\n",
    "import collections"
   ]
  },
  {
   "cell_type": "markdown",
   "id": "1046a4e5",
   "metadata": {},
   "source": [
    "We make a client connection to the FEDn API service. Here we assume that FEDn is deployed locally in pseudo-distributed mode with default ports."
   ]
  },
  {
   "cell_type": "code",
   "execution_count": 6,
   "id": "1061722d",
   "metadata": {},
   "outputs": [],
   "source": [
    "DISCOVER_HOST = '127.0.0.1'\n",
    "DISCOVER_PORT = 8092\n",
    "client = APIClient(DISCOVER_HOST, DISCOVER_PORT)"
   ]
  },
  {
   "cell_type": "markdown",
   "id": "07f69f5f",
   "metadata": {},
   "source": [
    "Initialize FEDn with the compute package and seed model. Note that these files needs to be created separately by follwing instructions in the README."
   ]
  },
  {
   "cell_type": "code",
   "execution_count": 7,
   "id": "5107f6f9",
   "metadata": {},
   "outputs": [],
   "source": [
    "client.set_package('package.tgz', 'numpyhelper')\n",
    "client.set_initial_model('seed.npz')\n",
    "seed_model = client.get_initial_model()"
   ]
  },
  {
   "cell_type": "markdown",
   "id": "4e26c50b",
   "metadata": {},
   "source": [
    "Next we start a training session using FedAvg and wait until it has finished:"
   ]
  },
  {
   "cell_type": "code",
   "execution_count": 8,
   "id": "f0380d35",
   "metadata": {},
   "outputs": [],
   "source": [
    "session_id = \"experiment_fedavg\"\n",
    "\n",
    "session_config_fedavg = {\n",
    "                    \"helper\": \"numpyhelper\",\n",
    "                    \"session_id\": session_id,\n",
    "                    \"aggregator\": \"fedavg\",\n",
    "                    \"model_id\": seed_model['model_id'],\n",
    "                    \"rounds\": 2\n",
    "                 }\n",
    "\n",
    "result_fedavg = client.start_session(**session_config_fedavg)"
   ]
  },
  {
   "cell_type": "markdown",
   "id": "8cc709c2",
   "metadata": {},
   "source": [
    "We wait for the session to finish: "
   ]
  },
  {
   "cell_type": "code",
   "execution_count": 9,
   "id": "2bf24c41-4751-4c88-9375-2ba55f8ca827",
   "metadata": {},
   "outputs": [
    {
     "data": {
      "text/plain": [
       "True"
      ]
     },
     "execution_count": 9,
     "metadata": {},
     "output_type": "execute_result"
    }
   ],
   "source": [
    "client.session_is_finished(session_id)"
   ]
  },
  {
   "cell_type": "code",
   "execution_count": null,
   "id": "897451fa",
   "metadata": {},
   "outputs": [],
   "source": [
    "while not client.session_is_finished(session_id):\n",
    "    time.sleep(2)"
   ]
  },
  {
   "cell_type": "markdown",
   "id": "16874cec",
   "metadata": {},
   "source": [
    "Next, we retrive all model validations from all clients, extract the training accuracy metric, and compute its mean value accross all clients"
   ]
  },
  {
   "cell_type": "code",
   "execution_count": 10,
   "id": "4e8044b7",
   "metadata": {},
   "outputs": [],
   "source": [
    "models = client.list_models(session_id)\n",
    "\n",
    "validations = []\n",
    "acc = collections.OrderedDict()\n",
    "for model in models[\"result\"]:\n",
    "    model_id = model[\"model\"]\n",
    "    validations = client.list_validations(modelId=model_id)\n",
    "\n",
    "    for _ , validation in validations.items(): \n",
    "        metrics = json.loads(validation['data'])\n",
    "        try:\n",
    "            acc[model_id].append(metrics['training_accuracy'])\n",
    "        except KeyError: \n",
    "            acc[model_id] = [metrics['training_accuracy']]\n",
    "            \n",
    "mean_acc_fedavg = []\n",
    "for model, data in acc.items():\n",
    "    mean_acc_fedavg.append(np.mean(data))\n",
    "mean_acc_fedavg.reverse()"
   ]
  },
  {
   "cell_type": "code",
   "execution_count": 11,
   "id": "42425c43",
   "metadata": {},
   "outputs": [
    {
     "data": {
      "text/plain": [
       "<matplotlib.legend.Legend at 0x1214bef10>"
      ]
     },
     "execution_count": 11,
     "metadata": {},
     "output_type": "execute_result"
    },
    {
     "data": {
      "image/png": "[encoded data removed]",
      "text/plain": [
       "<Figure size 640x480 with 1 Axes>"
      ]
     },
     "metadata": {},
     "output_type": "display_data"
    }
   ],
   "source": [
    "x = range(1,len(mean_acc_fedavg)+1)\n",
    "plt.plot(x, mean_acc_fedavg)\n",
    "plt.legend(['Training Accuracy (FedAvg)'])"
   ]
  },
  {
   "cell_type": "markdown",
   "id": "4eeea5aa",
   "metadata": {},
   "source": [
    "Let's try another aggregation algorithm. We start another session using FedOpt (FedAdam)"
   ]
  },
  {
   "cell_type": "code",
   "execution_count": 12,
   "id": "4f70d7d9",
   "metadata": {},
   "outputs": [],
   "source": [
    "session_config_fedopt = {\n",
    "                    \"helper\": \"numpyhelper\",\n",
    "                    \"session_id\": \"experiment_fedopt\",\n",
    "                    \"aggregator\": \"fedopt\",\n",
    "                    \"model_id\": seed_model['model_id'],\n",
    "                    \"rounds\": 2\n",
    "                 }\n",
    "\n",
    "result_fedopt = client.start_session(**session_config_fedopt)"
   ]
  },
  {
   "cell_type": "code",
   "execution_count": 13,
   "id": "91ea5f39-f084-4c83-bbaa-efb5ec8404d3",
   "metadata": {},
   "outputs": [
    {
     "data": {
      "text/plain": [
       "True"
      ]
     },
     "execution_count": 13,
     "metadata": {},
     "output_type": "execute_result"
    }
   ],
   "source": [
    "client.session_is_finished(\"experiment_fedopt\")"
   ]
  },
  {
   "cell_type": "code",
   "execution_count": null,
   "id": "ce8a89a3",
   "metadata": {},
   "outputs": [],
   "source": [
    "while not client.session_is_finished(\"experiment_fedopt\"):\n",
    "    time.sleep(2)"
   ]
  },
  {
   "cell_type": "code",
   "execution_count": 14,
   "id": "900eb0a7",
   "metadata": {},
   "outputs": [],
   "source": [
    "models = client.list_models(session_id = \"experiment_fedopt\")\n",
    "\n",
    "validations = []\n",
    "acc = collections.OrderedDict()\n",
    "for model in models[\"result\"]:\n",
    "    model_id = model[\"model\"]\n",
    "    validations = client.list_validations(modelId=model_id)\n",
    "    for _ , validation in validations.items(): \n",
    "        metrics = json.loads(validation['data'])\n",
    "        try:\n",
    "            acc[model_id].append(metrics['training_accuracy'])\n",
    "        except KeyError: \n",
    "            acc[model_id] = [metrics['training_accuracy']]\n",
    "            \n",
    "mean_acc_fedopt = []\n",
    "for model, data in acc.items():\n",
    "    mean_acc_fedopt.append(np.mean(data))\n",
    "mean_acc_fedopt.reverse()"
   ]
  },
  {
   "cell_type": "markdown",
   "id": "40db4542",
   "metadata": {},
   "source": [
    "Finally, plot the resulting accuracy"
   ]
  },
  {
   "cell_type": "code",
   "execution_count": 15,
   "id": "d064aaf9",
   "metadata": {},
   "outputs": [
    {
     "data": {
      "text/plain": [
       "<matplotlib.legend.Legend at 0x121674af0>"
      ]
     },
     "execution_count": 15,
     "metadata": {},
     "output_type": "execute_result"
    },
    {
     "data": {
      "image/png": "[encoded data removed]",
      "text/plain": [
       "<Figure size 640x480 with 1 Axes>"
      ]
     },
     "metadata": {},
     "output_type": "display_data"
    }
   ],
   "source": [
    "x = range(1,len(mean_acc_fedavg)+1)\n",
    "plt.plot(x, mean_acc_fedavg, x, mean_acc_fedopt)\n",
    "plt.legend(['FedAvg', 'FedAdam'])"
   ]
  },
  {
   "cell_type": "code",
   "execution_count": null,
   "id": "494b940d-60bd-4ce1-8e27-172d024a7fac",
   "metadata": {},
   "outputs": [],
   "source": []
  }
 ],
 "metadata": {
  "kernelspec": {
   "display_name": "Python (fedn)",
   "language": "python",
   "name": "fedn"
  },
  "language_info": {
   "codemirror_mode": {
    "name": "ipython",
    "version": 3
   },
   "file_extension": ".py",
   "mimetype": "text/x-python",
   "name": "python",
   "nbconvert_exporter": "python",
   "pygments_lexer": "ipython3",
   "version": "3.9.18"
  }
 },
 "nbformat": 4,
 "nbformat_minor": 5
}
