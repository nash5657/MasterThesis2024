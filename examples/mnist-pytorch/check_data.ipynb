{
 "cells": [
  {
   "cell_type": "code",
   "execution_count": 3,
   "id": "0171dc5b-518e-45ef-8c93-11fddd5c3262",
   "metadata": {},
   "outputs": [],
   "source": [
    "import torch\n",
    "from datasets import load_dataset, Dataset\n",
    "import pandas as pd"
   ]
  },
  {
   "cell_type": "code",
   "execution_count": 18,
   "id": "9f37e3ae-cbe0-4da2-82c7-22d190cedae5",
   "metadata": {},
   "outputs": [],
   "source": [
    "# Adjust the path as necessary to point to your specific split file\n",
    "split_data_path = '/Users/nash/Project/fedn/fedn/examples/mnist-pytorch/test/clients/1/dataset.pt'\n",
    "split_data = torch.load(split_data_path)\n"
   ]
  },
  {
   "cell_type": "code",
   "execution_count": 19,
   "id": "5fee923c-90cf-42a6-ab84-447a0c361c2c",
   "metadata": {},
   "outputs": [
    {
     "data": {
      "text/plain": [
       "Dataset({\n",
       "    features: ['input_ids', 'labels'],\n",
       "    num_rows: 1246\n",
       "})"
      ]
     },
     "execution_count": 19,
     "metadata": {},
     "output_type": "execute_result"
    }
   ],
   "source": [
    "split_data"
   ]
  },
  {
   "cell_type": "code",
   "execution_count": 6,
   "id": "eeef0101-b1da-4d7e-b5af-950bd1d730be",
   "metadata": {},
   "outputs": [],
   "source": [
    "# Load your dataset\n",
    "dataset = load_dataset(\"knkarthick/dialogsum\",split='train[:50%]')\n"
   ]
  },
  {
   "cell_type": "code",
   "execution_count": 5,
   "id": "89ef2894-90bc-46ff-9878-0253b7a68492",
   "metadata": {},
   "outputs": [
    {
     "data": {
      "text/plain": [
       "Dataset({\n",
       "    features: ['id', 'dialogue', 'summary', 'topic'],\n",
       "    num_rows: 1246\n",
       "})"
      ]
     },
     "execution_count": 5,
     "metadata": {},
     "output_type": "execute_result"
    }
   ],
   "source": [
    "dataset"
   ]
  },
  {
   "cell_type": "code",
   "execution_count": 7,
   "id": "cf34f111-83b7-4e01-9c78-38955e199a43",
   "metadata": {},
   "outputs": [],
   "source": [
    "# Convert to pandas DataFrame\n",
    "df = pd.DataFrame(data)\n",
    "\n",
    "# Shuffle the DataFrame\n",
    "df = df.sample(frac=1).reset_index(drop=True)\n",
    "\n",
    "# Convert back to datasets.Dataset\n",
    "shuffled_data = Dataset.from_pandas(df)"
   ]
  },
  {
   "cell_type": "code",
   "execution_count": 8,
   "id": "40802788-5913-44b4-bb69-1a5924a3617e",
   "metadata": {},
   "outputs": [],
   "source": [
    "from transformers import  AutoTokenizer\n",
    "\n",
    "model_name='google/flan-t5-base'\n",
    "tokenizer = AutoTokenizer.from_pretrained(model_name)"
   ]
  },
  {
   "cell_type": "code",
   "execution_count": 9,
   "id": "d56fcae4-37a0-4491-967a-d86cffc3bbfa",
   "metadata": {},
   "outputs": [],
   "source": [
    "def tokenize_function(example):\n",
    "    start_prompt = 'Summarize the following conversation.\\n\\n'\n",
    "    end_prompt = '\\n\\nSummary: '\n",
    "    prompt = [start_prompt + dialogue + end_prompt for dialogue in example[\"dialogue\"]]\n",
    "    example['input_ids'] = tokenizer(prompt, padding=\"max_length\", truncation=True, return_tensors=\"pt\").input_ids\n",
    "    example['labels'] = tokenizer(example[\"summary\"], padding=\"max_length\", truncation=True, return_tensors=\"pt\").input_ids\n",
    "    \n",
    "    return example"
   ]
  },
  {
   "cell_type": "code",
   "execution_count": 10,
   "id": "c58198cf-cd1d-44da-94a5-89a68dce55fe",
   "metadata": {},
   "outputs": [
    {
     "data": {
      "application/vnd.jupyter.widget-view+json": {
       "model_id": "a93090bd17324abbb4e219f0db280b43",
       "version_major": 2,
       "version_minor": 0
      },
      "text/plain": [
       "Map:   0%|          | 0/6230 [00:00<?, ? examples/s]"
      ]
     },
     "metadata": {},
     "output_type": "display_data"
    }
   ],
   "source": [
    "tokenized_datasets = shuffled_data.map(tokenize_function, batched=True)"
   ]
  },
  {
   "cell_type": "code",
   "execution_count": 11,
   "id": "b8e96551-956b-4995-9d3e-a33d4b4dc81d",
   "metadata": {},
   "outputs": [
    {
     "data": {
      "text/plain": [
       "Dataset({\n",
       "    features: ['id', 'dialogue', 'summary', 'topic', 'input_ids', 'labels'],\n",
       "    num_rows: 6230\n",
       "})"
      ]
     },
     "execution_count": 11,
     "metadata": {},
     "output_type": "execute_result"
    }
   ],
   "source": [
    "tokenized_datasets"
   ]
  },
  {
   "cell_type": "code",
   "execution_count": 12,
   "id": "f3a1be80-f77a-485c-afb1-390d43d7a8d6",
   "metadata": {},
   "outputs": [],
   "source": [
    "tokenized_datasets = tokenized_datasets.remove_columns(['id', 'topic', 'dialogue', 'summary',])"
   ]
  },
  {
   "cell_type": "code",
   "execution_count": 13,
   "id": "88138c42-41d8-437b-8eec-6966c5a9a992",
   "metadata": {},
   "outputs": [
    {
     "data": {
      "text/plain": [
       "Dataset({\n",
       "    features: ['input_ids', 'labels'],\n",
       "    num_rows: 6230\n",
       "})"
      ]
     },
     "execution_count": 13,
     "metadata": {},
     "output_type": "execute_result"
    }
   ],
   "source": [
    "tokenized_datasets"
   ]
  },
  {
   "cell_type": "code",
   "execution_count": 14,
   "id": "3f93a709-0891-4f37-b873-5a214f7ee7d9",
   "metadata": {},
   "outputs": [
    {
     "data": {
      "text/plain": [
       "6230"
      ]
     },
     "execution_count": 14,
     "metadata": {},
     "output_type": "execute_result"
    }
   ],
   "source": [
    "n = len(tokenized_datasets)\n",
    "n"
   ]
  },
  {
   "cell_type": "code",
   "execution_count": 15,
   "id": "1466e71b-19b1-48a3-9cfd-30cff1041152",
   "metadata": {},
   "outputs": [],
   "source": [
    "out_dir='test'"
   ]
  },
  {
   "cell_type": "code",
   "execution_count": 16,
   "id": "3fc98ca4-5749-4474-adf4-5c726f4b22c7",
   "metadata": {},
   "outputs": [],
   "source": [
    "import os\n",
    "\n",
    "\n",
    "if not os.path.exists(f'{out_dir}/clients'):\n",
    "        os.makedirs(f'{out_dir}/clients')\n"
   ]
  },
  {
   "cell_type": "code",
   "execution_count": 17,
   "id": "04685208-1ecf-43ed-a48e-399c5acfdeee",
   "metadata": {},
   "outputs": [],
   "source": [
    "\n",
    "# Size of each section\n",
    "section_size = n // 5\n",
    "\n",
    "# Create 5 sections\n",
    "sections = []\n",
    "for i in range(5):\n",
    "    subdir = f'{out_dir}/clients/{str(i+1)}'\n",
    "    if not os.path.exists(subdir):\n",
    "        os.makedirs(subdir)\n",
    "    start_idx = i * section_size\n",
    "    # For the last section, take all remaining data\n",
    "    end_idx = (i + 1) * section_size if i != 4 else n\n",
    "    section = tokenized_datasets.select(range(start_idx, end_idx))\n",
    "    torch.save(section,f'{subdir}/dataset.pt')\n",
    "\n",
    "# Now you have 5 sections stored in 'sections'\n"
   ]
  },
  {
   "cell_type": "code",
   "execution_count": 68,
   "id": "40f1876e-cc12-4faa-8cf8-bbbac140df99",
   "metadata": {},
   "outputs": [],
   "source": [
    "from datasets import load_dataset\n",
    "\n",
    "# Load your dataset\n",
    "dataset = load_dataset(\"knkarthick/dialogsum\",split='train[:20%]')\n"
   ]
  },
  {
   "cell_type": "code",
   "execution_count": 69,
   "id": "3f901e9f-4565-4ab2-8b0b-6fa4a45afc05",
   "metadata": {},
   "outputs": [
    {
     "data": {
      "text/plain": [
       "Dataset({\n",
       "    features: ['id', 'dialogue', 'summary', 'topic'],\n",
       "    num_rows: 2492\n",
       "})"
      ]
     },
     "execution_count": 69,
     "metadata": {},
     "output_type": "execute_result"
    }
   ],
   "source": [
    "dataset"
   ]
  },
  {
   "cell_type": "code",
   "execution_count": 81,
   "id": "6cfbc6eb-8b37-43ed-b547-d312de908e1f",
   "metadata": {},
   "outputs": [],
   "source": [
    "iterable_dataset = dataset.to_iterable_dataset(num_shards=5)\n",
    "shuffled_iterable_dataset = iterable_dataset.shuffle(seed=42, buffer_size=1000)"
   ]
  },
  {
   "cell_type": "code",
   "execution_count": 82,
   "id": "7a3be5b3-d0f9-4c28-a579-b8f99ca4420a",
   "metadata": {},
   "outputs": [
    {
     "data": {
      "text/plain": [
       "IterableDataset({\n",
       "    features: ['id', 'dialogue', 'summary', 'topic'],\n",
       "    n_shards: 5\n",
       "})"
      ]
     },
     "execution_count": 82,
     "metadata": {},
     "output_type": "execute_result"
    }
   ],
   "source": [
    "shuffled_iterable_dataset"
   ]
  },
  {
   "cell_type": "code",
   "execution_count": 84,
   "id": "f0af9271-c367-448e-8e8f-a62e8a2ec2ac",
   "metadata": {},
   "outputs": [],
   "source": [
    "import itertools\n",
    "\n",
    "# Assuming iterable_dataset has already been created\n",
    "shards = [[] for _ in range(5)]  # Create 5 empty lists to store shards\n",
    "\n",
    "# Iterate over the iterable_dataset and assign elements to shards\n",
    "for i, element in enumerate(iterable_dataset):\n",
    "    shard_index = i % 5  # Assign elements to shards in a round-robin fashion\n",
    "    shards[shard_index].append(element)\n",
    "\n",
    "# Now you have 5 lists, each containing the elements of the corresponding shard\n",
    "shard_0, shard_1, shard_2, shard_3, shard_4 = shards"
   ]
  },
  {
   "cell_type": "code",
   "execution_count": 2,
   "id": "05ab7cfe-f893-482d-845f-467decdab137",
   "metadata": {},
   "outputs": [],
   "source": [
    "from datasets import load_dataset, Dataset\n",
    "import pandas as pd\n",
    "\n",
    "# Load the dataset\n",
    "dataset = \"knkarthick/dialogsum\"\n",
    "data = load_dataset(dataset, split='train[:50%]')\n",
    "\n",
    "# Convert to pandas DataFrame\n",
    "df = pd.DataFrame(data)\n",
    "\n",
    "# Shuffle the DataFrame\n",
    "df = df.sample(frac=1).reset_index(drop=True)\n",
    "\n",
    "# Convert back to datasets.Dataset\n",
    "shuffled_data = Dataset.from_pandas(df)\n",
    "\n"
   ]
  },
  {
   "cell_type": "code",
   "execution_count": null,
   "id": "e3c80e1c-c505-480d-9310-38fed70f74fa",
   "metadata": {},
   "outputs": [],
   "source": []
  }
 ],
 "metadata": {
  "kernelspec": {
   "display_name": "Python (peft)",
   "language": "python",
   "name": "peft"
  },
  "language_info": {
   "codemirror_mode": {
    "name": "ipython",
    "version": 3
   },
   "file_extension": ".py",
   "mimetype": "text/x-python",
   "name": "python",
   "nbconvert_exporter": "python",
   "pygments_lexer": "ipython3",
   "version": "3.9.19"
  }
 },
 "nbformat": 4,
 "nbformat_minor": 5
}
