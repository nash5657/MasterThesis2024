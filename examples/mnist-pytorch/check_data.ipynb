{
 "cells": [
  {
   "cell_type": "code",
   "execution_count": 12,
   "id": "0171dc5b-518e-45ef-8c93-11fddd5c3262",
   "metadata": {},
   "outputs": [],
   "source": [
    "import torch"
   ]
  },
  {
   "cell_type": "code",
   "execution_count": 13,
   "id": "9f37e3ae-cbe0-4da2-82c7-22d190cedae5",
   "metadata": {},
   "outputs": [],
   "source": [
    "# Adjust the path as necessary to point to your specific split file\n",
    "split_data_path = '/Users/nash/Project/fedn/fedn/examples/mnist-pytorch/data/clients/5/dataset.pt'\n",
    "split_data = torch.load(split_data_path)\n"
   ]
  },
  {
   "cell_type": "code",
   "execution_count": 15,
   "id": "89ef2894-90bc-46ff-9878-0253b7a68492",
   "metadata": {},
   "outputs": [],
   "source": [
    "from transformers import AutoModelForSeq2SeqLM, AutoTokenizer, GenerationConfig, TrainingArguments, Trainer, AutoModelForCausalLM\n",
    "from peft import LoraConfig, get_peft_model, TaskType, PeftModel, PeftConfig\n",
    "import time\n",
    "import transformers\n",
    "from datasets import Dataset\n"
   ]
  },
  {
   "cell_type": "code",
   "execution_count": 16,
   "id": "af53a33e-9909-48a9-a173-68de9ebe9910",
   "metadata": {},
   "outputs": [],
   "source": [
    "def load_model():\n",
    "    model_name='google/flan-t5-base'\n",
    "    original_model = AutoModelForSeq2SeqLM.from_pretrained(model_name, torch_dtype=torch.bfloat16)\n",
    "    tokenizer = AutoTokenizer.from_pretrained(model_name)\n",
    "    return original_model, tokenizer\n"
   ]
  },
  {
   "cell_type": "code",
   "execution_count": 17,
   "id": "d677664d-c072-4ad6-bb2d-7c3b7423e471",
   "metadata": {},
   "outputs": [],
   "source": [
    "def load_data(data_path):\n",
    "    dataset = torch.load(data_path)\n",
    "    data = Dataset.from_dict(dataset)\n",
    "    return data"
   ]
  },
  {
   "cell_type": "code",
   "execution_count": 18,
   "id": "7e85b8bc-a7bd-48ac-a716-90b44bd8e85d",
   "metadata": {},
   "outputs": [],
   "source": [
    "data = load_data(split_data_path)"
   ]
  },
  {
   "cell_type": "code",
   "execution_count": 19,
   "id": "7465a63b-32ed-4f3d-9ba3-75754de004f3",
   "metadata": {},
   "outputs": [
    {
     "data": {
      "text/plain": [
       "Dataset({\n",
       "    features: ['input_ids', 'labels'],\n",
       "    num_rows: 2492\n",
       "})"
      ]
     },
     "execution_count": 19,
     "metadata": {},
     "output_type": "execute_result"
    }
   ],
   "source": [
    "data"
   ]
  },
  {
   "cell_type": "code",
   "execution_count": 7,
   "id": "fc5f5ef9-9d14-43e2-bcd3-9d1adeff253c",
   "metadata": {},
   "outputs": [
    {
     "name": "stderr",
     "output_type": "stream",
     "text": [
      "/Users/nash/Project/fedn/lib/python3.9/site-packages/transformers/optimization.py:391: FutureWarning: This implementation of AdamW is deprecated and will be removed in a future version. Use the PyTorch implementation torch.optim.AdamW instead, or set `no_deprecation_warning=True` to disable this warning\n",
      "  warnings.warn(\n",
      "You're using a T5TokenizerFast tokenizer. Please note that with a fast tokenizer, using the `__call__` method is faster than using a method to encode the text followed by a call to the `pad` method to get a padded encoding.\n"
     ]
    },
    {
     "data": {
      "text/html": [
       "\n",
       "    <div>\n",
       "      \n",
       "      <progress value='1' max='1' style='width:300px; height:20px; vertical-align: middle;'></progress>\n",
       "      [1/1 00:00, Epoch 0/1]\n",
       "    </div>\n",
       "    <table border=\"1\" class=\"dataframe\">\n",
       "  <thead>\n",
       " <tr style=\"text-align: left;\">\n",
       "      <th>Step</th>\n",
       "      <th>Training Loss</th>\n",
       "    </tr>\n",
       "  </thead>\n",
       "  <tbody>\n",
       "    <tr>\n",
       "      <td>1</td>\n",
       "      <td>0.871100</td>\n",
       "    </tr>\n",
       "  </tbody>\n",
       "</table><p>"
      ],
      "text/plain": [
       "<IPython.core.display.HTML object>"
      ]
     },
     "metadata": {},
     "output_type": "display_data"
    },
    {
     "data": {
      "text/plain": [
       "TrainOutput(global_step=1, training_loss=0.87109375, metrics={'train_runtime': 1199.7709, 'train_samples_per_second': 0.007, 'train_steps_per_second': 0.001, 'total_flos': 5565031907328.0, 'train_loss': 0.87109375, 'epoch': 0.0})"
      ]
     },
     "execution_count": 7,
     "metadata": {},
     "output_type": "execute_result"
    }
   ],
   "source": [
    "\n",
    "    lora_config = LoraConfig(\n",
    "    r=32, # Rank\n",
    "    lora_alpha=32,\n",
    "    target_modules=[\"q\", \"v\"],\n",
    "    lora_dropout=0.05,\n",
    "    bias=\"none\",\n",
    "    task_type=TaskType.SEQ_2_SEQ_LM # FLAN-T5\n",
    ")\n",
    "\n",
    "    peft_model = get_peft_model(load_model()[0], lora_config)\n",
    "\n",
    "    working_dir = './'\n",
    "    output_dir = f'./peft-dialogue-summary-training-{str(int(time.time()))}'\n",
    "\n",
    "    peft_training_args = TrainingArguments(\n",
    "        output_dir=output_dir,\n",
    "        auto_find_batch_size=True,\n",
    "        learning_rate=1e-3, # Higher learning rate than full fine-tuning.\n",
    "        num_train_epochs=1,\n",
    "        logging_steps=1,\n",
    "        max_steps=1    \n",
    "    )\n",
    "    \n",
    "train_sample = load_data(split_data_path)\n",
    "\n",
    "    \n",
    "    trainer = Trainer(\n",
    "        model=peft_model,\n",
    "        args=peft_training_args,\n",
    "        train_dataset=train_sample,\n",
    "        data_collator=transformers.DataCollatorForLanguageModeling(load_model()[1], mlm=False)\n",
    "    )\n",
    "\n",
    "    trainer.train()\n"
   ]
  },
  {
   "cell_type": "code",
   "execution_count": null,
   "id": "1fa3c1b9-9656-4cad-af72-4bede8a47cb2",
   "metadata": {},
   "outputs": [],
   "source": []
  }
 ],
 "metadata": {
  "kernelspec": {
   "display_name": "Python (fedn)",
   "language": "python",
   "name": "fedn"
  },
  "language_info": {
   "codemirror_mode": {
    "name": "ipython",
    "version": 3
   },
   "file_extension": ".py",
   "mimetype": "text/x-python",
   "name": "python",
   "nbconvert_exporter": "python",
   "pygments_lexer": "ipython3",
   "version": "3.9.18"
  }
 },
 "nbformat": 4,
 "nbformat_minor": 5
}
