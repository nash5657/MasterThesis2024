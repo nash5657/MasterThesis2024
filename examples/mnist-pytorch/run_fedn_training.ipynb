{
 "cells": [
  {
   "cell_type": "code",
   "execution_count": 11,
   "id": "7a20d086-2243-4adb-804d-002f70bbb4c0",
   "metadata": {},
   "outputs": [],
   "source": [
    "from fedn import APIClient\n",
    "import time\n",
    "import uuid\n",
    "import json\n",
    "import matplotlib.pyplot as plt\n",
    "import numpy as np\n",
    "import collections"
   ]
  },
  {
   "cell_type": "code",
   "execution_count": 12,
   "id": "4b0460bc-9852-49d9-980a-0a0eb08efe8d",
   "metadata": {},
   "outputs": [],
   "source": [
    "DISCOVER_HOST = '127.0.0.1'\n",
    "DISCOVER_PORT = 8092\n",
    "client = APIClient(DISCOVER_HOST, DISCOVER_PORT)"
   ]
  },
  {
   "cell_type": "code",
   "execution_count": 13,
   "id": "816c75ab-9b6a-4897-8e39-9f0ec53a5d51",
   "metadata": {},
   "outputs": [],
   "source": [
    "client.set_package('package.tgz', 'numpyhelper')\n",
    "client.set_initial_model('seed.npz')\n",
    "seed_model = client.get_initial_model()"
   ]
  },
  {
   "cell_type": "code",
   "execution_count": 14,
   "id": "b6351642-4131-4606-a405-391f834c4e1b",
   "metadata": {},
   "outputs": [
    {
     "data": {
      "text/plain": [
       "{'count': 1,\n",
       " 'result': [{'combiner': 'combiner',\n",
       "   'combiner_preferred': False,\n",
       "   'id': 'client1',\n",
       "   'ip': '172.24.0.7',\n",
       "   'last_seen': 'Wed, 10 Apr 2024 17:58:26 GMT',\n",
       "   'status': 'online'}]}"
      ]
     },
     "execution_count": 14,
     "metadata": {},
     "output_type": "execute_result"
    }
   ],
   "source": [
    "client.list_clients()"
   ]
  },
  {
   "cell_type": "code",
   "execution_count": 15,
   "id": "60aa1435-33af-4398-957c-dda8b5d23ddf",
   "metadata": {},
   "outputs": [],
   "source": [
    "session_id = \"experiment_fedavg\"\n",
    "\n",
    "session_config_fedavg = {\n",
    "                        \"helper\": \"numpyhelper\", \n",
    "                        \"session_id\": session_id, \n",
    "                        \"aggregator\": \"fedavg\", \n",
    "                        \"model_id\": seed_model['model_id'], \n",
    "                        \"rounds\": 1, \n",
    "                        \"round_timeout\": 180000, \n",
    "                        \"validate\": False\n",
    "                        }\n",
    "\n",
    "result_fedavg = client.start_session(**session_config_fedavg)"
   ]
  },
  {
   "cell_type": "code",
   "execution_count": 8,
   "id": "9cc31b9b-2470-40de-b793-9dd6fc22d7f8",
   "metadata": {},
   "outputs": [
    {
     "data": {
      "text/plain": [
       "False"
      ]
     },
     "execution_count": 8,
     "metadata": {},
     "output_type": "execute_result"
    }
   ],
   "source": [
    "client.session_is_finished(session_id)"
   ]
  },
  {
   "cell_type": "code",
   "execution_count": 11,
   "id": "3bae0a2a-a0d0-4a2b-a669-ef6331387eb3",
   "metadata": {},
   "outputs": [
    {
     "data": {
      "text/plain": [
       "{'config': {'aggregator': 'fedavg',\n",
       "  'buffer_size': -1,\n",
       "  'clients_requested': 8,\n",
       "  'clients_required': 1,\n",
       "  'delete_models_storage': True,\n",
       "  'helper_type': 'numpyhelper',\n",
       "  'model_id': 'cbd2f468-7d1e-493d-84c0-39bada65fbed',\n",
       "  'round_timeout': 180000,\n",
       "  'rounds': 1,\n",
       "  'session_id': 'experiment_fedavg',\n",
       "  'task': '',\n",
       "  'validate': False},\n",
       " 'message': 'Session started successfully.',\n",
       " 'success': True}"
      ]
     },
     "execution_count": 11,
     "metadata": {},
     "output_type": "execute_result"
    }
   ],
   "source": [
    "result_fedavg"
   ]
  },
  {
   "cell_type": "code",
   "execution_count": 12,
   "id": "bac83861-ec26-44e8-b1e0-8e376f2ce7ea",
   "metadata": {},
   "outputs": [],
   "source": [
    "models = client.get_model_trail()"
   ]
  },
  {
   "cell_type": "code",
   "execution_count": 16,
   "id": "4e620d6d-3dd9-4b03-9f33-8603e766adeb",
   "metadata": {},
   "outputs": [
    {
     "data": {
      "text/plain": [
       "{'5068e257-452c-4054-941f-870dd6456f03': '2024-04-09 16:51:06.389798',\n",
       " 'cbd2f468-7d1e-493d-84c0-39bada65fbed': '2024-04-09 16:15:14.787401'}"
      ]
     },
     "execution_count": 16,
     "metadata": {},
     "output_type": "execute_result"
    }
   ],
   "source": [
    "models"
   ]
  },
  {
   "cell_type": "code",
   "execution_count": 22,
   "id": "947cf835-383f-49b2-939b-36edd3229454",
   "metadata": {},
   "outputs": [
    {
     "name": "stdout",
     "output_type": "stream",
     "text": [
      "{}\n",
      "{}\n"
     ]
    }
   ],
   "source": [
    "acc = []\n",
    "for model in models:\n",
    "    model_id = model\n",
    "    validations = client.list_validations(model_id=model_id)\n",
    "    print(validations)"
   ]
  },
  {
   "cell_type": "code",
   "execution_count": 20,
   "id": "f3205ae9-8d61-4cff-8053-3619a4b30e11",
   "metadata": {},
   "outputs": [
    {
     "data": {
      "text/plain": [
       "{}"
      ]
     },
     "execution_count": 20,
     "metadata": {},
     "output_type": "execute_result"
    }
   ],
   "source": [
    "validations"
   ]
  },
  {
   "cell_type": "code",
   "execution_count": 23,
   "id": "cacc5971-3d84-4048-84c4-1630d3053fbd",
   "metadata": {},
   "outputs": [
    {
     "data": {
      "text/plain": [
       "['experiment_fedavg']"
      ]
     },
     "execution_count": 23,
     "metadata": {},
     "output_type": "execute_result"
    }
   ],
   "source": [
    "[session['session_id'] for session in client.list_sessions()['result']]"
   ]
  },
  {
   "cell_type": "code",
   "execution_count": null,
   "id": "41e22c41-420e-438e-ab85-fbe5a27a0807",
   "metadata": {},
   "outputs": [],
   "source": []
  }
 ],
 "metadata": {
  "kernelspec": {
   "display_name": "Python (fedn)",
   "language": "python",
   "name": "fedn"
  },
  "language_info": {
   "codemirror_mode": {
    "name": "ipython",
    "version": 3
   },
   "file_extension": ".py",
   "mimetype": "text/x-python",
   "name": "python",
   "nbconvert_exporter": "python",
   "pygments_lexer": "ipython3",
   "version": "3.9.18"
  }
 },
 "nbformat": 4,
 "nbformat_minor": 5
}
