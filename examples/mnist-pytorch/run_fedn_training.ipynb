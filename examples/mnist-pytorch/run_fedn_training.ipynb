{
 "cells": [
  {
   "cell_type": "code",
   "execution_count": 4,
   "id": "7a20d086-2243-4adb-804d-002f70bbb4c0",
   "metadata": {},
   "outputs": [],
   "source": [
    "from fedn import APIClient\n",
    "import time\n",
    "import uuid\n",
    "import json\n",
    "import matplotlib.pyplot as plt\n",
    "import numpy as np\n",
    "import collections"
   ]
  },
  {
   "cell_type": "code",
   "execution_count": 5,
   "id": "4b0460bc-9852-49d9-980a-0a0eb08efe8d",
   "metadata": {},
   "outputs": [],
   "source": [
    "DISCOVER_HOST = '127.0.0.1'\n",
    "DISCOVER_PORT = 8092\n",
    "client = APIClient(DISCOVER_HOST, DISCOVER_PORT)"
   ]
  },
  {
   "cell_type": "code",
   "execution_count": 6,
   "id": "816c75ab-9b6a-4897-8e39-9f0ec53a5d51",
   "metadata": {},
   "outputs": [],
   "source": [
    "client.set_package('package.tgz', 'numpyhelper')\n",
    "client.set_initial_model('seed.npz')\n",
    "seed_model = client.get_initial_model()"
   ]
  },
  {
   "cell_type": "code",
   "execution_count": 7,
   "id": "60aa1435-33af-4398-957c-dda8b5d23ddf",
   "metadata": {},
   "outputs": [],
   "source": [
    "session_id = \"experiment_fedavg\"\n",
    "\n",
    "session_config_fedavg = {\n",
    "                    \"helper\": \"numpyhelper\",\n",
    "                    \"session_id\": session_id,\n",
    "                    \"aggregator\": \"fedavg\",\n",
    "                    \"model_id\": seed_model['model_id'],\n",
    "                    \"rounds\": 5\n",
    "                 }\n",
    "\n",
    "result_fedavg = client.start_session(**session_config_fedavg)"
   ]
  },
  {
   "cell_type": "code",
   "execution_count": null,
   "id": "9cc31b9b-2470-40de-b793-9dd6fc22d7f8",
   "metadata": {},
   "outputs": [],
   "source": [
    "client.session_is_finished(session_id)"
   ]
  }
 ],
 "metadata": {
  "kernelspec": {
   "display_name": "Python (fedn)",
   "language": "python",
   "name": "fedn"
  },
  "language_info": {
   "codemirror_mode": {
    "name": "ipython",
    "version": 3
   },
   "file_extension": ".py",
   "mimetype": "text/x-python",
   "name": "python",
   "nbconvert_exporter": "python",
   "pygments_lexer": "ipython3",
   "version": "3.9.18"
  }
 },
 "nbformat": 4,
 "nbformat_minor": 5
}
