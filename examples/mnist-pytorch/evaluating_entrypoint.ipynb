{
 "cells": [
  {
   "cell_type": "code",
   "execution_count": 1,
   "id": "7d82c845-d593-4552-b111-6d75fa9db9c6",
   "metadata": {},
   "outputs": [],
   "source": [
    "from transformers import AutoModelForSeq2SeqLM, AutoTokenizer, GenerationConfig, TrainingArguments, Trainer\n",
    "import torch\n",
    "import time\n",
    "import evaluate\n",
    "import pandas as pd\n",
    "import numpy as np\n",
    "from fedn.utils.helpers.helpers import get_helper, save_metadata, save_metrics\n",
    "from peft import LoraConfig, get_peft_model, TaskType, PeftModel, PeftConfig\n",
    "import collections"
   ]
  },
  {
   "cell_type": "code",
   "execution_count": 2,
   "id": "dd16a9cc-bcbf-4997-af20-bf9936408902",
   "metadata": {},
   "outputs": [],
   "source": [
    "HELPER_MODULE = 'numpyhelper'\n",
    "helper = get_helper(HELPER_MODULE)"
   ]
  },
  {
   "cell_type": "code",
   "execution_count": 3,
   "id": "ad90453f-c553-4106-8be0-8fb3dd0484d5",
   "metadata": {},
   "outputs": [],
   "source": [
    "def compile_model():\n",
    "    peft_model_base = AutoModelForSeq2SeqLM.from_pretrained(\"google/flan-t5-base\", torch_dtype=torch.bfloat16)\n",
    "    tokenizer = AutoTokenizer.from_pretrained(\"google/flan-t5-base\")\n",
    "\n",
    "    peft_model = PeftModel.from_pretrained(peft_model_base, \n",
    "                                        '/Users/nash/Project/peft/peft-dialogue-summary-checkpoint-local', \n",
    "                                        torch_dtype=torch.bfloat16,\n",
    "                                        is_trainable=False)\n",
    "    return peft_model"
   ]
  },
  {
   "cell_type": "code",
   "execution_count": 4,
   "id": "40368dfa-d6e5-419b-a75a-c9819cfbbcfb",
   "metadata": {},
   "outputs": [],
   "source": [
    "def load_parameters(model_path):\n",
    "    \"\"\" Load model parameters from file and populate model.\n",
    "\n",
    "    param model_path: The path to load from.\n",
    "    :type model_path: str\n",
    "    :return: The loaded model.\n",
    "    :rtype: torch.nn.Module\n",
    "    \"\"\"\n",
    "    parameters_np = helper.load(model_path)\n",
    "    model = compile_model()\n",
    "    params_dict = zip(model.state_dict().keys(), parameters_np)\n",
    "    state_dict = collections.OrderedDict({key: torch.tensor(x) for key, x in params_dict})\n",
    "    model.load_state_dict(state_dict, strict=True)\n",
    "    return model"
   ]
  },
  {
   "cell_type": "code",
   "execution_count": 5,
   "id": "f567bff9-b72b-4bf7-a221-6ea28110f0b5",
   "metadata": {},
   "outputs": [],
   "source": [
    "in_model_path = '/Users/nash/Downloads/147c5fce-6219-4e17-a8cc-763ad9bd4028'"
   ]
  },
  {
   "cell_type": "code",
   "execution_count": 6,
   "id": "549dfa3c-6fdc-4c2a-96cf-ed00f6fa7b01",
   "metadata": {},
   "outputs": [],
   "source": [
    "model = load_parameters(in_model_path)"
   ]
  },
  {
   "cell_type": "code",
   "execution_count": null,
   "id": "b8de4122-5d3c-409a-aa3b-f952f6915f86",
   "metadata": {},
   "outputs": [],
   "source": []
  }
 ],
 "metadata": {
  "kernelspec": {
   "display_name": "Python (fedn)",
   "language": "python",
   "name": "fedn"
  },
  "language_info": {
   "codemirror_mode": {
    "name": "ipython",
    "version": 3
   },
   "file_extension": ".py",
   "mimetype": "text/x-python",
   "name": "python",
   "nbconvert_exporter": "python",
   "pygments_lexer": "ipython3",
   "version": "3.9.18"
  }
 },
 "nbformat": 4,
 "nbformat_minor": 5
}
