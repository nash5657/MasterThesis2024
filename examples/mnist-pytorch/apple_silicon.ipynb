{
 "cells": [
  {
   "cell_type": "code",
   "execution_count": 4,
   "id": "10db41f5-bcfc-420c-b7eb-55f4d6d559a2",
   "metadata": {},
   "outputs": [
    {
     "name": "stdout",
     "output_type": "stream",
     "text": [
      "negative\n"
     ]
    }
   ],
   "source": [
    "import torch\n",
    "import torch.nn as nn\n",
    "\n",
    "lf = nn.MSELoss(reduction='none')\n",
    "device = 'mps'\n",
    "\n",
    "model = nn.Sequential(\n",
    "    nn.Conv1d(3, 3, 1),\n",
    ")\n",
    "\n",
    "model = model.to(device)\n",
    "\n",
    "x = torch.randn(128, 10, 3).to(device)\n",
    "x = x.permute(0, 2, 1)\n",
    "y = model(x)\n",
    "y = y.permute(0, 2, 1)[:,:5,:]\n",
    "y_hat = torch.randn(128, 5, 3).to(device)\n",
    "\n",
    "loss = lf(y, y_hat)\n",
    "\n",
    "if (loss < 0).any():\n",
    "    print('negative')\n",
    "\n",
    "# no negative report"
   ]
  },
  {
   "cell_type": "code",
   "execution_count": 5,
   "id": "fb5affd0-84f4-49f4-b71d-9c123c0a42bd",
   "metadata": {},
   "outputs": [
    {
     "name": "stderr",
     "output_type": "stream",
     "text": [
      "/Users/nash/Project/fedn/lib/python3.9/site-packages/torch/_tensor_str.py:115: UserWarning: The operator 'aten::nonzero' is not currently supported on the MPS backend and will fall back to run on the CPU. This may have performance implications. (Triggered internally at /Users/runner/work/pytorch/pytorch/pytorch/aten/src/ATen/mps/MPSFallback.mm:11.)\n",
      "  nonzero_finite_vals = torch.masked_select(\n"
     ]
    },
    {
     "data": {
      "text/plain": [
       "tensor([[[-1.0478, -0.7228,  0.5184],\n",
       "         [-1.1585,  1.3420,  0.1302],\n",
       "         [-0.6164,  0.0181, -2.0631],\n",
       "         [ 1.4987, -0.0985,  1.8138],\n",
       "         [ 1.2271, -2.3635, -0.2508]],\n",
       "\n",
       "        [[ 0.8011,  0.3035,  0.6035],\n",
       "         [ 0.4677, -0.5204,  1.0937],\n",
       "         [-1.3994, -1.1199, -0.6621],\n",
       "         [ 0.7400, -0.1411, -0.6150],\n",
       "         [-0.3509, -3.2230, -2.1333]],\n",
       "\n",
       "        [[-0.1919,  0.0485,  0.1039],\n",
       "         [-0.1907,  1.3807,  0.7500],\n",
       "         [ 0.3267,  2.7466, -0.5851],\n",
       "         [ 1.7844, -0.5899,  0.2378],\n",
       "         [-0.3245, -2.0354,  0.3644]],\n",
       "\n",
       "        ...,\n",
       "\n",
       "        [[ 0.9903, -0.3085,  1.1084],\n",
       "         [-0.7344,  0.6037,  1.6245],\n",
       "         [-0.0639,  1.6123,  0.1382],\n",
       "         [-1.5711,  0.0505, -0.2646],\n",
       "         [ 1.3256,  1.4281, -0.7906]],\n",
       "\n",
       "        [[-0.0262,  0.1073, -0.1354],\n",
       "         [ 0.9377, -0.8808,  1.2319],\n",
       "         [-0.2413,  0.1202,  0.7507],\n",
       "         [ 0.9632, -0.5862,  0.0912],\n",
       "         [ 0.0207,  0.2398,  2.5932]],\n",
       "\n",
       "        [[-1.3479,  0.2797,  0.9476],\n",
       "         [-0.1609,  2.4177,  0.6632],\n",
       "         [-0.5275,  1.0349, -0.0160],\n",
       "         [ 0.1700,  0.4517, -1.2473],\n",
       "         [-1.6201, -0.2713,  0.0516]]], device='mps:0',\n",
       "       grad_fn=<MseLossBackward0>)"
      ]
     },
     "execution_count": 5,
     "metadata": {},
     "output_type": "execute_result"
    }
   ],
   "source": [
    "loss"
   ]
  },
  {
   "cell_type": "code",
   "execution_count": null,
   "id": "c21bfd16-82d9-4a41-83b1-def14497a4aa",
   "metadata": {},
   "outputs": [],
   "source": []
  }
 ],
 "metadata": {
  "kernelspec": {
   "display_name": "Python (fedn)",
   "language": "python",
   "name": "fedn"
  },
  "language_info": {
   "codemirror_mode": {
    "name": "ipython",
    "version": 3
   },
   "file_extension": ".py",
   "mimetype": "text/x-python",
   "name": "python",
   "nbconvert_exporter": "python",
   "pygments_lexer": "ipython3",
   "version": "3.9.18"
  }
 },
 "nbformat": 4,
 "nbformat_minor": 5
}
